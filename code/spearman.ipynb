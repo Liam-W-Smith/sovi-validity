{
 "cells": [
  {
   "cell_type": "markdown",
   "id": "8fcd202c-f3d6-4103-a4b3-b3575de06ec6",
   "metadata": {},
   "source": [
    "# Not working yet!! \n",
    "## Depends on data_prep, which has the queen issue"
   ]
  },
  {
   "cell_type": "code",
   "execution_count": 3,
   "id": "9e0781a1-4d49-421e-a1a5-0df7e6a1a1e2",
   "metadata": {},
   "outputs": [
    {
     "name": "stdout",
     "output_type": "stream",
     "text": [
      "did not pull supplementary ACS data - A\n"
     ]
    },
    {
     "ename": "AttributeError",
     "evalue": "module 'pysal' has no attribute 'queen_from_shapefile'",
     "output_type": "error",
     "traceback": [
      "\u001b[0;31m---------------------------------------------------------------------------\u001b[0m",
      "\u001b[0;31mAttributeError\u001b[0m                            Traceback (most recent call last)",
      "\u001b[0;32m/var/folders/v0/bc8r6b2510994_w9c67brgzh0000gn/T/ipykernel_19078/4007102052.py\u001b[0m in \u001b[0;36m<module>\u001b[0;34m\u001b[0m\n\u001b[1;32m      6\u001b[0m \u001b[0msys\u001b[0m\u001b[0;34m.\u001b[0m\u001b[0mpath\u001b[0m\u001b[0;34m.\u001b[0m\u001b[0minsert\u001b[0m\u001b[0;34m(\u001b[0m\u001b[0;36m1\u001b[0m\u001b[0;34m,\u001b[0m \u001b[0;34m\"./code\"\u001b[0m\u001b[0;34m)\u001b[0m\u001b[0;34m\u001b[0m\u001b[0;34m\u001b[0m\u001b[0m\n\u001b[1;32m      7\u001b[0m \u001b[0;32mfrom\u001b[0m \u001b[0mspss_pca\u001b[0m \u001b[0;32mimport\u001b[0m \u001b[0mSPSS_PCA\u001b[0m\u001b[0;34m\u001b[0m\u001b[0;34m\u001b[0m\u001b[0m\n\u001b[0;32m----> 8\u001b[0;31m \u001b[0;32mimport\u001b[0m \u001b[0mcompute_sovis\u001b[0m\u001b[0;34m\u001b[0m\u001b[0;34m\u001b[0m\u001b[0m\n\u001b[0m\u001b[1;32m      9\u001b[0m \u001b[0;34m\u001b[0m\u001b[0m\n\u001b[1;32m     10\u001b[0m \u001b[0mpd\u001b[0m\u001b[0;34m.\u001b[0m\u001b[0mset_option\u001b[0m\u001b[0;34m(\u001b[0m\u001b[0;34m\"chained_assignment\"\u001b[0m\u001b[0;34m,\u001b[0m \u001b[0;32mNone\u001b[0m\u001b[0;34m)\u001b[0m\u001b[0;34m\u001b[0m\u001b[0;34m\u001b[0m\u001b[0m\n",
      "\u001b[0;32m~/Documents/summer_research_2023/sovi-validity/code/compute_sovis.py\u001b[0m in \u001b[0;36m<module>\u001b[0;34m\u001b[0m\n\u001b[1;32m     19\u001b[0m \u001b[0;32mfrom\u001b[0m \u001b[0mspss_pca\u001b[0m \u001b[0;32mimport\u001b[0m \u001b[0mSPSS_PCA\u001b[0m\u001b[0;34m\u001b[0m\u001b[0;34m\u001b[0m\u001b[0m\n\u001b[1;32m     20\u001b[0m \u001b[0;32mfrom\u001b[0m \u001b[0mdrop1_place\u001b[0m \u001b[0;32mimport\u001b[0m \u001b[0;34m*\u001b[0m\u001b[0;34m\u001b[0m\u001b[0;34m\u001b[0m\u001b[0m\n\u001b[0;32m---> 21\u001b[0;31m \u001b[0;32mimport\u001b[0m \u001b[0mdata_prep\u001b[0m\u001b[0;34m\u001b[0m\u001b[0;34m\u001b[0m\u001b[0m\n\u001b[0m\u001b[1;32m     22\u001b[0m \u001b[0mpd\u001b[0m\u001b[0;34m.\u001b[0m\u001b[0mset_option\u001b[0m\u001b[0;34m(\u001b[0m\u001b[0;34m\"chained_assignment\"\u001b[0m\u001b[0;34m,\u001b[0m \u001b[0;32mNone\u001b[0m\u001b[0;34m)\u001b[0m\u001b[0;34m\u001b[0m\u001b[0;34m\u001b[0m\u001b[0m\n\u001b[1;32m     23\u001b[0m \u001b[0;34m\u001b[0m\u001b[0m\n",
      "\u001b[0;32m~/Documents/summer_research_2023/sovi-validity/code/data_prep.py\u001b[0m in \u001b[0;36m<module>\u001b[0;34m\u001b[0m\n\u001b[1;32m    136\u001b[0m \u001b[0;34m\u001b[0m\u001b[0m\n\u001b[1;32m    137\u001b[0m \u001b[0;31m# calculate weights matrix\u001b[0m\u001b[0;34m\u001b[0m\u001b[0;34m\u001b[0m\u001b[0m\n\u001b[0;32m--> 138\u001b[0;31m w = ps.queen_from_shapefile(os.path.join(spath, 'USA_Counties_500k.shp'),\n\u001b[0m\u001b[1;32m    139\u001b[0m                             idVariable='geoFIPS')\n\u001b[1;32m    140\u001b[0m \u001b[0mw\u001b[0m\u001b[0;34m.\u001b[0m\u001b[0mtransform\u001b[0m \u001b[0;34m=\u001b[0m \u001b[0;34m'R'\u001b[0m\u001b[0;34m\u001b[0m\u001b[0;34m\u001b[0m\u001b[0m\n",
      "\u001b[0;31mAttributeError\u001b[0m: module 'pysal' has no attribute 'queen_from_shapefile'"
     ]
    }
   ],
   "source": [
    "import pandas as pd\n",
    "from scipy.stats import spearmanr\n",
    "import os\n",
    "import sys\n",
    "\n",
    "sys.path.insert(1, \"./code\")\n",
    "from spss_pca import SPSS_PCA\n",
    "import compute_sovis\n",
    "\n",
    "pd.set_option(\"chained_assignment\", None)\n",
    "\n",
    "path = os.getcwd()\n",
    "path = os.path.dirname(os.getcwd()) # if running from the 'code' directory\n",
    "outPath = os.path.join(path, 'data')\n",
    "ipath = os.path.join(path, 'data', 'input')\n",
    "spath = os.path.join(path, 'data', 'spatial')\n",
    "opath = os.path.join(path, 'data', 'output')\n",
    "\n",
    "state_id = ['g51', 'g48', 'g36', 'g06', 'g13', 'g16', 'g17', 'g29', 'g46', 'g23g33g25']\n",
    "rank = compute_sovis.county_in_state_rank\n",
    "rank['Geo_FIPS'] = rank.index\n",
    "rank.index = range(len(rank))\n",
    "state = compute_sovis.State_Sovi_Score\n",
    "state['Geo_FIPS'] = state.index\n",
    "state.index = range(len(state))\n",
    "\n",
    "# create column names for dataframe based on state ids\n",
    "# columns for r values\n",
    "corr = [s + '_r' for s in state_id]\n",
    "# columns for p values\n",
    "pval = [x + '_p' for x in state_id]\n",
    "cols = corr + pval\n",
    "# create dataframe to store results\n",
    "state_results = pd.DataFrame(index = ['Region', 'US'], columns=cols)\n",
    "\n",
    "for ID in state_id:\n",
    "    print(ID)\n",
    "    st = state[state['state_id'] == ID]\n",
    "    select = rank[rank['Geo_FIPS'].isin(st['Geo_FIPS'])]\n",
    "    st_reg = spearmanr(select['state_sovi_rank'], select['fema_region_sovi_rank'])\n",
    "    st_US = spearmanr(select['state_sovi_rank'], select['us_sovi_rank'])\n",
    "    state_results[ID+'_r']['Region'] = st_reg[0]\n",
    "    state_results[ID+'_p']['Region'] = st_reg[1]\n",
    "    state_results[ID+'_r']['US'] = st_US[0]\n",
    "    state_results[ID+'_p']['US'] = st_US[1]\n",
    "\n",
    "state_results.to_csv(opath + '/spearman_state.csv')\n",
    "\n",
    "US_Sovi_Score = compute_sovis.US_Sovi_Score\n",
    "FEMA_Region_Sovi_Score = compute_sovis.FEMA_Region_Sovi_Score\n",
    "county_in_region_rank = pd.DataFrame(index=FEMA_Region_Sovi_Score.index,\n",
    "                                     columns=['fema_region_sovi_rank', 'us_sovi_rank'])\n",
    "\n",
    "regionList = ['FEMA_1', 'FEMA_2', 'FEMA_3', 'FEMA_4', 'FEMA_5', 'FEMA_6', 'FEMA_7', 'FEMA_8', 'FEMA_9', 'FEMA_10']\n",
    "\n",
    "for region in regionList:\n",
    "    x = FEMA_Region_Sovi_Score[FEMA_Region_Sovi_Score['fema_region'] == region]\n",
    "    # get all counties in region and rank for us\n",
    "    rg_cty_scores = US_Sovi_Score[US_Sovi_Score.index.isin(x.index)]\n",
    "    county_in_region_rank.loc[rg_cty_scores.index, 'us_sovi_rank'] = abs(rg_cty_scores.sovi).rank(method='average',\n",
    "                                                                                                  ascending=False)\n",
    "    # get all counties in state and rank for fema region\n",
    "    county_in_region_rank.loc[rg_cty_scores.index, 'fema_region_sovi_rank'] = abs(x.sovi).rank(method='average',\n",
    "                                                                                               ascending=False)\n",
    "\n",
    "county_in_region_rank.to_csv(opath + '/County_in_Region_Rank.csv')\n",
    "corrReg = [s + '_r' for s in regionList]\n",
    "# columns for p values\n",
    "pvalReg = [x + '_p' for x in regionList]\n",
    "colsReg = corrReg + pvalReg\n",
    "# create dataframe to store results\n",
    "region_results = pd.DataFrame(index = ['US'], columns=colsReg)\n",
    "\n",
    "for ID in regionList:\n",
    "    print(ID)\n",
    "    rg = FEMA_Region_Sovi_Score[FEMA_Region_Sovi_Score['fema_region'] == ID]\n",
    "    rank = pd.read_csv(path + 'County_in_Region_Rank.csv')\n",
    "    select = rank[rank['Geo_FIPS'].isin(rg.index)]\n",
    "    reg_us = spearmanr(select['fema_region_sovi_rank'], select['us_sovi_rank'])\n",
    "    region_results[ID+'_r'] = reg_us[0]\n",
    "    region_results[ID+'_p'] = reg_us[1]\n",
    "region_results.to_csv(opath + '/spearman_region.csv')\n",
    "    "
   ]
  }
 ],
 "metadata": {
  "kernelspec": {
   "display_name": "Python 3 (ipykernel)",
   "language": "python",
   "name": "python3"
  },
  "language_info": {
   "codemirror_mode": {
    "name": "ipython",
    "version": 3
   },
   "file_extension": ".py",
   "mimetype": "text/x-python",
   "name": "python",
   "nbconvert_exporter": "python",
   "pygments_lexer": "ipython3",
   "version": "3.9.13"
  }
 },
 "nbformat": 4,
 "nbformat_minor": 5
}
